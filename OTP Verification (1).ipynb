{
 "cells": [
  {
   "cell_type": "code",
   "execution_count": 1,
   "id": "48a1bd83",
   "metadata": {},
   "outputs": [],
   "source": [
    "import os\n",
    "import math\n",
    "import random\n",
    "import smtplib"
   ]
  },
  {
   "cell_type": "code",
   "execution_count": 2,
   "id": "2e355ac2",
   "metadata": {},
   "outputs": [],
   "source": [
    "digits=\"0123456789\"\n",
    "OTP=\"\"\n",
    "for i in range(6):\n",
    "    OTP+=digits[math.floor(random.random()*10)]\n",
    "otp = OTP + \" is your OTP\"\n",
    "msg= otp\n"
   ]
  },
  {
   "cell_type": "code",
   "execution_count": 3,
   "id": "0df45ac1",
   "metadata": {},
   "outputs": [
    {
     "ename": "SMTPAuthenticationError",
     "evalue": "(535, b'5.7.8 Username and Password not accepted. Learn more at\\n5.7.8  https://support.google.com/mail/?p=BadCredentials kb14-20020a170903338e00b001b8ad8382a4sm8839054plb.216 - gsmtp')",
     "output_type": "error",
     "traceback": [
      "\u001b[1;31m---------------------------------------------------------------------------\u001b[0m",
      "\u001b[1;31mSMTPAuthenticationError\u001b[0m                   Traceback (most recent call last)",
      "Cell \u001b[1;32mIn[3], line 3\u001b[0m\n\u001b[0;32m      1\u001b[0m s \u001b[38;5;241m=\u001b[39m smtplib\u001b[38;5;241m.\u001b[39mSMTP(\u001b[38;5;124m'\u001b[39m\u001b[38;5;124msmtp.gmail.com\u001b[39m\u001b[38;5;124m'\u001b[39m, \u001b[38;5;241m587\u001b[39m)                                \u001b[38;5;66;03m# To call gmail account Client.\u001b[39;00m\n\u001b[0;32m      2\u001b[0m s\u001b[38;5;241m.\u001b[39mstarttls()\n\u001b[1;32m----> 3\u001b[0m s\u001b[38;5;241m.\u001b[39mlogin(\u001b[38;5;124m\"\u001b[39m\u001b[38;5;124mtannirushreya058@gmail.com\u001b[39m\u001b[38;5;124m\"\u001b[39m, \u001b[38;5;124m\"\u001b[39m\u001b[38;5;124midlafmkeoutbtjgp\u001b[39m\u001b[38;5;124m\"\u001b[39m)            \u001b[38;5;66;03m# To Login into your account.\u001b[39;00m\n\u001b[0;32m      4\u001b[0m emailid \u001b[38;5;241m=\u001b[39m \u001b[38;5;28minput\u001b[39m(\u001b[38;5;124m\"\u001b[39m\u001b[38;5;124mEnter your email: \u001b[39m\u001b[38;5;124m\"\u001b[39m)\n\u001b[0;32m      5\u001b[0m s\u001b[38;5;241m.\u001b[39msendmail(\u001b[38;5;124m'\u001b[39m\u001b[38;5;124m&&&&&&&&&&&\u001b[39m\u001b[38;5;124m'\u001b[39m,emailid,msg)                                  \u001b[38;5;66;03m# Sending the OTP email.\u001b[39;00m\n",
      "File \u001b[1;32m~\\anaconda3\\New folder\\Lib\\smtplib.py:750\u001b[0m, in \u001b[0;36mSMTP.login\u001b[1;34m(self, user, password, initial_response_ok)\u001b[0m\n\u001b[0;32m    747\u001b[0m         last_exception \u001b[38;5;241m=\u001b[39m e\n\u001b[0;32m    749\u001b[0m \u001b[38;5;66;03m# We could not login successfully.  Return result of last attempt.\u001b[39;00m\n\u001b[1;32m--> 750\u001b[0m \u001b[38;5;28;01mraise\u001b[39;00m last_exception\n",
      "File \u001b[1;32m~\\anaconda3\\New folder\\Lib\\smtplib.py:739\u001b[0m, in \u001b[0;36mSMTP.login\u001b[1;34m(self, user, password, initial_response_ok)\u001b[0m\n\u001b[0;32m    737\u001b[0m method_name \u001b[38;5;241m=\u001b[39m \u001b[38;5;124m'\u001b[39m\u001b[38;5;124mauth_\u001b[39m\u001b[38;5;124m'\u001b[39m \u001b[38;5;241m+\u001b[39m authmethod\u001b[38;5;241m.\u001b[39mlower()\u001b[38;5;241m.\u001b[39mreplace(\u001b[38;5;124m'\u001b[39m\u001b[38;5;124m-\u001b[39m\u001b[38;5;124m'\u001b[39m, \u001b[38;5;124m'\u001b[39m\u001b[38;5;124m_\u001b[39m\u001b[38;5;124m'\u001b[39m)\n\u001b[0;32m    738\u001b[0m \u001b[38;5;28;01mtry\u001b[39;00m:\n\u001b[1;32m--> 739\u001b[0m     (code, resp) \u001b[38;5;241m=\u001b[39m \u001b[38;5;28mself\u001b[39m\u001b[38;5;241m.\u001b[39mauth(\n\u001b[0;32m    740\u001b[0m         authmethod, \u001b[38;5;28mgetattr\u001b[39m(\u001b[38;5;28mself\u001b[39m, method_name),\n\u001b[0;32m    741\u001b[0m         initial_response_ok\u001b[38;5;241m=\u001b[39minitial_response_ok)\n\u001b[0;32m    742\u001b[0m     \u001b[38;5;66;03m# 235 == 'Authentication successful'\u001b[39;00m\n\u001b[0;32m    743\u001b[0m     \u001b[38;5;66;03m# 503 == 'Error: already authenticated'\u001b[39;00m\n\u001b[0;32m    744\u001b[0m     \u001b[38;5;28;01mif\u001b[39;00m code \u001b[38;5;129;01min\u001b[39;00m (\u001b[38;5;241m235\u001b[39m, \u001b[38;5;241m503\u001b[39m):\n",
      "File \u001b[1;32m~\\anaconda3\\New folder\\Lib\\smtplib.py:662\u001b[0m, in \u001b[0;36mSMTP.auth\u001b[1;34m(self, mechanism, authobject, initial_response_ok)\u001b[0m\n\u001b[0;32m    660\u001b[0m \u001b[38;5;28;01mif\u001b[39;00m code \u001b[38;5;129;01min\u001b[39;00m (\u001b[38;5;241m235\u001b[39m, \u001b[38;5;241m503\u001b[39m):\n\u001b[0;32m    661\u001b[0m     \u001b[38;5;28;01mreturn\u001b[39;00m (code, resp)\n\u001b[1;32m--> 662\u001b[0m \u001b[38;5;28;01mraise\u001b[39;00m SMTPAuthenticationError(code, resp)\n",
      "\u001b[1;31mSMTPAuthenticationError\u001b[0m: (535, b'5.7.8 Username and Password not accepted. Learn more at\\n5.7.8  https://support.google.com/mail/?p=BadCredentials kb14-20020a170903338e00b001b8ad8382a4sm8839054plb.216 - gsmtp')"
     ]
    }
   ],
   "source": [
    "s = smtplib.SMTP('smtp.gmail.com', 587)                                # To call gmail account Client.\n",
    "s.starttls()\n",
    "s.login(\"tannirushreya058@gmail.com\", \"idlafmkeoutbtjgp\")            # To Login into your account.\n",
    "emailid = input(\"Enter your email: \")\n",
    "s.sendmail('&&&&&&&&&&&',emailid,msg)                                  # Sending the OTP email.\n",
    "o = input(\"Enter Your OTP >>: \")\n",
    "if o == OTP:\n",
    "    print(\"Congratulations!! Your Account has been Successfully Verified\")\n",
    "else:\n",
    "    print(\"Please Check your OTP again\")"
   ]
  },
  {
   "cell_type": "code",
   "execution_count": null,
   "id": "68955c32",
   "metadata": {},
   "outputs": [],
   "source": []
  }
 ],
 "metadata": {
  "kernelspec": {
   "display_name": "Python 3 (ipykernel)",
   "language": "python",
   "name": "python3"
  },
  "language_info": {
   "codemirror_mode": {
    "name": "ipython",
    "version": 3
   },
   "file_extension": ".py",
   "mimetype": "text/x-python",
   "name": "python",
   "nbconvert_exporter": "python",
   "pygments_lexer": "ipython3",
   "version": "3.11.3"
  }
 },
 "nbformat": 4,
 "nbformat_minor": 5
}
